{
 "cells": [
  {
   "cell_type": "markdown",
   "metadata": {
    "id": "M-DGa20PaHnu"
   },
   "source": [
    "#Задача 1\n",
    "Написать функцию на вход которой подается строка, состоящая из латинских букв.\n",
    "Функция должна вернуть количество гласных букв (a, e, i, o, u) в этой строке. Написать тесты для кода"
   ]
  },
  {
   "cell_type": "code",
   "execution_count": 2,
   "metadata": {
    "id": "XvX8X_JJ6PCb"
   },
   "outputs": [],
   "source": [
    "def vowelsSymb(string):\n",
    "    cnt = 0\n",
    "    for sym in string:\n",
    "        #Проверка на то, находится ли символ в строке. \n",
    "        #Символ ставится в нижний регистр методом .lower, чтобы не прописывать отдельно условие для верхнего\n",
    "        if sym.lower() in 'aeiou':\n",
    "            #Если символ является гласной, увеличиваем счетчик на 1\n",
    "            cnt += 1\n",
    "    return cnt\n",
    "\n",
    "#тесты:\n",
    "\n",
    "assert vowelsSymb('Stroka iz 7 glasnih symvolov') == 7, 'Должно быть: 7'\n",
    "assert vowelsSymb('CAT') == 1, 'Должно быть: 1'\n",
    "assert vowelsSymb('fOrtunA') == 3, 'Должно быть: 3'\n",
    "assert vowelsSymb('Fffafion') == 3, 'Должно быть 3'"
   ]
  },
  {
   "cell_type": "markdown",
   "metadata": {
    "id": "t2ClV_Y0bbr6"
   },
   "source": [
    "# Задача 2\n",
    "Написать функцию на вход, которой подается строка. Функция должна вернуть true, если\n",
    "каждый символ в строке встречается только 1 раз, иначе должна вернуть false. Написать тесты для кода"
   ]
  },
  {
   "cell_type": "code",
   "execution_count": 4,
   "metadata": {
    "id": "FppbECao6VIz"
   },
   "outputs": [
    {
     "name": "stderr",
     "output_type": "stream",
     "text": [
      "....\n",
      "----------------------------------------------------------------------\n",
      "Ran 4 tests in 0.002s\n",
      "\n",
      "OK\n"
     ]
    }
   ],
   "source": [
    "import unittest\n",
    "def differentSymb(string):\n",
    "    # Функция set разделяет строку на отдельные уникальные символы.\n",
    "    # Если длина множества символов равна длине строки, значит все символы встречаются только 1 раз.\n",
    "    # Если нет, возвращается False. \n",
    "    if len(set(string)) == len(string):\n",
    "        return True\n",
    "    return False\n",
    "\n",
    "class TestCase(unittest.TestCase):\n",
    "    def test_symbols(self):\n",
    "        self.assertEqual(differentSymb('!2f&3%*)('), True)\n",
    "\n",
    "    def test_symbols_letters(self):\n",
    "        self.assertEqual(differentSymb('aabbcc'), False)\n",
    "        self.assertEqual(differentSymb('ABCDEFGHIJKLMNOPQRSTUVWXYZ'), True)\n",
    "    \n",
    "    def test_symbols_number(self):\n",
    "        self.assertEqual(differentSymb('123123'), False)\n",
    "        self.assertEqual(differentSymb('12345'), True)\n",
    "        self.assertEqual(differentSymb('222'), False)\n",
    "    \n",
    "    def test_symbols_empty(self):\n",
    "        self.assertEqual(differentSymb(''), True)\n",
    "        self.assertEqual(differentSymb(' '), True)\n",
    "\n",
    "if __name__ == '__main__':\n",
    "    unittest.main(argv=['first-arg-is-ignored'], exit=False)\n"
   ]
  },
  {
   "cell_type": "markdown",
   "metadata": {
    "id": "udRiIK1cdt6E"
   },
   "source": [
    "# Задача 3\n",
    "Написать функцию, которая принимает положительное число и возвращает количество\n",
    "бит равных 1 в этом числе. Написать тесты для кода"
   ]
  },
  {
   "cell_type": "code",
   "execution_count": 6,
   "metadata": {
    "id": "6tkfDJRz6dp_"
   },
   "outputs": [
    {
     "name": "stdout",
     "output_type": "stream",
     "text": [
      "4\n"
     ]
    }
   ],
   "source": [
    "def binary(val: int):\n",
    "    # Преобразуем число в двоичную систему с помощью bin() и удаляем '0b' в начале\n",
    "    cnt = 0\n",
    "    binaryVal = bin(val)[2:]\n",
    "    for i in binaryVal:\n",
    "        # Проходим по всему числу, т.к после применения функции bin(), тип данных становится str\n",
    "        # Если встречаем 1, то увеличиваем счетчик\n",
    "        if i == '1':\n",
    "            cnt += 1\n",
    "    return cnt\n",
    "\n",
    "print(binary(156))\n",
    "\n",
    "assert binary(123) == 6, \"Should be 6\"\n",
    "assert binary(55) == 5, \"Should be 5\"\n",
    "assert binary(156) == 4, \"Should be 4\""
   ]
  },
  {
   "cell_type": "markdown",
   "metadata": {
    "id": "26dDUz-Ae17N"
   },
   "source": [
    "# Задача 4\n",
    "Написать функцию, которая принимает положительное число. Функция должна вернуть то,\n",
    "сколько раз необходимо перемножать цифры числа или результат перемножения, чтобы\n",
    "получилось число состоящее из одной цифры.\n",
    "Например, для входного числа:\n",
    "· 39 функция должна вернуть 3, так как 3*9=27 => 2*7=14 => 1*4=4\n",
    "· 4 функция должна вернуть 0, так как число уже состоит из одной цифры\n",
    "· 999 функция должна вернуть 4, так как 9*9*9=729 => 7*2*9=126 => 1*2*6=12 =>\n",
    "1*2=2. Написать тесты для кода"
   ]
  },
  {
   "cell_type": "code",
   "execution_count": 7,
   "metadata": {
    "id": "BH1A_Mgi6i4G"
   },
   "outputs": [
    {
     "name": "stderr",
     "output_type": "stream",
     "text": [
      ".......\n",
      "----------------------------------------------------------------------\n",
      "Ran 7 tests in 0.005s\n",
      "\n",
      "OK\n"
     ]
    }
   ],
   "source": [
    "import unittest\n",
    "#Функция должна принимать только целочисленный тип и возвращать его же\n",
    "def multiply_num(n: int) -> int:\n",
    "    cnt = 0\n",
    "    #Если число меньше 10, то вернуть 0, т.к перемножать в нем нечего\n",
    "    if n < 10:\n",
    "        return 0\n",
    "    #Пока число более чем двузначное, перемножаем все числа. \n",
    "    while n >= 10:\n",
    "        # С помощью команды .join() разделяем все элементы в строковом представлении числа\n",
    "        # С помощью функции eval() применяем умножение к строковому типу, перемножая числа между собой\n",
    "        # Счетчик cnt увеличивается на 1 каждый раз, когда происходит перемножение\n",
    "        n = eval('*'.join(str(n)))\n",
    "        cnt += 1\n",
    "    \n",
    "    return cnt\n",
    "\n",
    "class TestClass(unittest.TestCase):\n",
    "    def test_num(self):\n",
    "        self.assertEqual(multiply_num(999), 4)\n",
    "        self.assertEqual(multiply_num(39), 3)\n",
    "\n",
    "    def test_num_alone(self):\n",
    "        self.assertEqual(multiply_num(5), 0)\n",
    "        \n",
    "    def test_num_with_zero(self):\n",
    "        self.assertEqual(multiply_num(10), 1)\n",
    "        self.assertEqual(multiply_num(100), 1)\n",
    "        self.assertEqual(multiply_num(10000), 1)\n",
    "\n",
    "if __name__ == '__main__':\n",
    "    unittest.main(argv=['first-arg-is-ignored'], exit=False)"
   ]
  },
  {
   "cell_type": "markdown",
   "metadata": {
    "id": "0nS-kIa8g8vd"
   },
   "source": [
    "# Задача 5\n",
    "Написать функцию, которая принимает два целочисленных вектора одинаковой длины и\n",
    "возвращает среднеквадратическое отклонение двух векторов. Написать тесты для кода"
   ]
  },
  {
   "cell_type": "code",
   "execution_count": 8,
   "metadata": {
    "id": "8iphx4LM6xbx"
   },
   "outputs": [
    {
     "name": "stderr",
     "output_type": "stream",
     "text": [
      ".......\n",
      "----------------------------------------------------------------------\n",
      "Ran 7 tests in 0.003s\n",
      "\n",
      "OK\n"
     ]
    }
   ],
   "source": [
    "import math\n",
    "import unittest\n",
    "\n",
    "def middle_square_val(vec1, vec2):    \n",
    "    # Проверка на совпадение длин векторов\n",
    "    if len(vec1) != len(vec2):\n",
    "        raise ValueError(\"Векторы должны быть одинаковой длины\")\n",
    "    \n",
    "    # Вычисление суммы квадратов разностей чисел из двух векторов и деление на длину вектора.\n",
    "    # То есть применение формулы для нахождения среднеквадратического отклонения двух векторов\n",
    "    difference_of_squares = [(a - b) ** 2 for a, b in zip(vec1, vec2)]\n",
    "    middle_value = sum(difference_of_squares) / len(vec1)\n",
    "    square_root = math.sqrt(middle_value)\n",
    "    \n",
    "    return square_root\n",
    "\n",
    "class TestClass(unittest.TestCase):\n",
    "    def test_vectors_identical(self):\n",
    "        self.assertEqual(middle_square_val([1, 2, 3], [1, 2, 3]), 0)\n",
    "    \n",
    "    def test_vectors_length_1(self):\n",
    "        self.assertEqual(middle_square_val([1], [1]), 0)\n",
    "\n",
    "    def test_different_vectors(self):\n",
    "        self.assertEqual(round(middle_square_val([1, -2, 3], [1, 2, 3])), 2)\n",
    "\n",
    "if __name__ == '__main__':\n",
    "    unittest.main(argv=['first-arg-is-ignored'], exit=False)"
   ]
  },
  {
   "cell_type": "markdown",
   "metadata": {
    "id": "vpIPKL439zkw"
   },
   "source": [
    "# Задача 6\n",
    "Написать функцию, принимающая целое положительное число. Функция должна вернуть\n",
    "строку вида “(n1**p1)(n2**p2)…(nk**pk)” представляющая разложение числа на простые\n",
    "множители (если pi == 1, то выводить только ni).\n",
    "Например, для числа 86240 функция должна вернуть “(2**5)(5)(7**2)(11)”. Написать тесты для кода"
   ]
  },
  {
   "cell_type": "code",
   "execution_count": 9,
   "metadata": {
    "id": "pFebmcZk94Jw"
   },
   "outputs": [],
   "source": [
    "from collections import Counter\n",
    "\n",
    "def spread_out(num: int):\n",
    "    # Если число равно 0, то и делитель у него только 0\n",
    "    if num == 0:\n",
    "        return 0\n",
    "    array_mn = []\n",
    "    # Получение всех простых делителей до заданого нами числа\n",
    "    delit = get_primes(num)\n",
    "    # Перебирая все делители, мы делим наше число на них, пока наше число делится без остатка\n",
    "    # И добавяем в список все подходящие делители\n",
    "    for i in delit:\n",
    "        while num % i == 0 :\n",
    "            num = num / i\n",
    "            array_mn.append(i)\n",
    "    # Составляем из полученного списка словарь, где ключи - простые числа, а значения - их количество\n",
    "    count = Counter(array_mn)\n",
    "    # Выводим полученный результат в формате \"n1**p1(n2**p2)...(nk**pk)\"\n",
    "    for i in delit:\n",
    "        if count[i] != 0 and count[i] != 1:\n",
    "            print(f\"({i}**{count[i]})\", end=\"\")\n",
    "        elif count[i] != 0 and count[i] == 1: \n",
    "            print(f\"({i})\", end=\"\")\n",
    "\n",
    "# Функция для вычисления простых числел, до указаного\n",
    "# Реализуется по схеме решетки Эратосфена\n",
    "def get_primes(n):\n",
    "    sieve = [True] * n\n",
    "    primes = []\n",
    "    for p in range(2, n):\n",
    "        if sieve[p]:\n",
    "            primes.append(p)\n",
    "            for i in range(p * p, n, p):\n",
    "                sieve[i] = False\n",
    "    return primes\n"
   ]
  },
  {
   "cell_type": "markdown",
   "metadata": {
    "id": "ps2s0BudX7A2"
   },
   "source": [
    "# Задача 7\n",
    "Написать функцию, принимающая целое число n, задающее количество кубиков. Функция\n",
    "должна определить, можно ли из данного кол-ва кубиков построить пирамиду, то есть\n",
    "можно ли представить число n как 1^2+2^2+3^2+…+k^2. Если можно, то функция должна\n",
    "вернуть k, иначе строку “It is impossible”. Написать тесты для кода"
   ]
  },
  {
   "cell_type": "code",
   "execution_count": 11,
   "metadata": {
    "id": "3YPjEXxhX_YT"
   },
   "outputs": [
    {
     "name": "stderr",
     "output_type": "stream",
     "text": [
      "......\n",
      "----------------------------------------------------------------------\n",
      "Ran 6 tests in 0.002s\n",
      "\n",
      "OK\n"
     ]
    }
   ],
   "source": [
    "from math import *\n",
    "import unittest\n",
    "\n",
    "# Функция для нахождения пирамиды из кубиков\n",
    "def square_num(n):\n",
    "    array_with_square = []\n",
    "    array_index = []\n",
    "    # Пока сумма квадратов кубиков меньше числа n, которым мы задали количество кубиков, добавляем квадраты количества кубиков в массив\n",
    "    # Так же добавляем количество кубиков, которое является числом i\n",
    "    for i in range(1, int(sqrt(n))):\n",
    "        while sum(array_with_square) < n:\n",
    "            array_with_square.append(i ** 2)\n",
    "            array_index.append(i)\n",
    "            i += 1\n",
    "    # Если сумма квадратов количества кубиков равна нашему количеству кубиков, \n",
    "    # значит число n можно представить как 1^2+2^2+3^2...+к^2\n",
    "    # Возвращаем кортеж значений: True - обозначение что можно представить число \n",
    "    # и последний элемент списка с количеством кубиков, это число k в формуле\n",
    "    # Иначе возвращаем кортеж: False - нельзя представить число и надпись \"Это невозможно\"\n",
    "    if sum(array_with_square) == n:\n",
    "        return True, array_index[-1]\n",
    "    return False, 'It is impossible'\n",
    "\n",
    "# Проверка на отрицательное число, на 0 (отсутсвие кубиков)\n",
    "# И если число кубиков, которое мы отправили в эту функцию можно представить как 1^2+2^2+3^2...+к^2, то есть функция вернула True\n",
    "# То возвращаем второе значение кортежа, которого вернула функция square_num(n)[1]\n",
    "# Иначе, если функция square_num вернула False, возвращаем надписть \"это невозможно\"\n",
    "def result_of_square(n):\n",
    "    if n < 0: \n",
    "        return 'It is impossible'\n",
    "    if n == 0: \n",
    "        return 'It is impossible'\n",
    "    if square_num(n)[0] == True:\n",
    "        return square_num(n)[1]\n",
    "    return square_num(n)[1]\n",
    "\n",
    "class TestClass(unittest.TestCase):\n",
    "    def test_on_right_val(self):\n",
    "        self.assertEqual(result_of_square(5), 2)\n",
    "        self.assertEqual(result_of_square(14), 3)\n",
    "        self.assertEqual(result_of_square(30), 4)\n",
    "        self.assertEqual(result_of_square(55), 5)\n",
    "        self.assertEqual(result_of_square(140), 7)\n",
    "        self.assertEqual(result_of_square(285), 9)\n",
    "\n",
    "    def test_on_error_val(self):\n",
    "        self.assertEqual(result_of_square(0), 'It is impossible')\n",
    "        self.assertEqual(result_of_square(-10), 'It is impossible')\n",
    "        \n",
    "\n",
    "if __name__ == '__main__':\n",
    "    unittest.main(argv=['first-arg-is-ignored'], exit=False)"
   ]
  },
  {
   "cell_type": "markdown",
   "metadata": {
    "id": "KeKgmIdAQMEJ"
   },
   "source": [
    "# Задача 8\n",
    "Функция принимает на вход положительное число и определяет является ли оно сбалансированным, т.е. сумма цифр до средних равна сумме цифр после. Средними в случае нечетного числа цифр считать одну цифру, в случае четного - две средних. Написать тесты для кода"
   ]
  },
  {
   "cell_type": "code",
   "execution_count": 12,
   "metadata": {
    "id": "gMAAqtqlQrZt"
   },
   "outputs": [
    {
     "name": "stderr",
     "output_type": "stream",
     "text": [
      "........\n",
      "----------------------------------------------------------------------\n",
      "Ran 8 tests in 0.004s\n",
      "\n",
      "OK\n"
     ]
    }
   ],
   "source": [
    "import unittest\n",
    "# Принимаем число, возвращаем строку с надписью сбалансировано ли число\n",
    "def num_balance(n: int) -> str:\n",
    "    half_length = 0\n",
    "    #Если число положительное то проверяем дальше:\n",
    "    if n > 0: \n",
    "        # Если число цифр четное, то по отдельности находим сумму цифр первой половины и второй половины числа\n",
    "        # Далее если суммы цифр равны, возвращаем результат проверки\n",
    "        if len(str(n)) % 2 == 0:\n",
    "            half_length = int(len(str(n)) / 2)\n",
    "            sum_first_path = sum(int(digit) for digit in str(n)[:half_length])\n",
    "            sum_second_path = sum(int(digit) for digit in str(n)[half_length:])\n",
    "            if sum_first_path == sum_second_path:\n",
    "                return 'число сбалансировано'\n",
    "            return 'число не сбалансировано'\n",
    "        else:\n",
    "        # Иначе, если число цифр нечетное, то так же по отдельности находим сумму цифр первой и второй половины,\n",
    "        # но уже цепляя число посередине и для суммы первой половины, и для суммы цифр второй половины\n",
    "        # И так же возвращаем результат проверки\n",
    "            half_length = int((len(str(n))) / 2)\n",
    "            sum_first_path = sum(int(digit) for digit in str(n)[:half_length+1])\n",
    "            sum_second_path = sum(int(digit) for digit in str(n)[half_length:])\n",
    "            if sum_first_path == sum_second_path:\n",
    "                return 'число сбалансировано'\n",
    "            return 'число не сбалансировано'\n",
    "\n",
    "class Test(unittest.TestCase):\n",
    "    def test_num_balance(self):\n",
    "        self.assertEqual(num_balance(12341234), 'число сбалансировано')\n",
    "        self.assertEqual(num_balance(33533), 'число сбалансировано')\n",
    "        self.assertEqual(num_balance(4756447564), 'число сбалансировано')\n",
    "    \n",
    "    def test_num_not_balance(self):\n",
    "        self.assertEqual(num_balance(123456), 'число не сбалансировано')\n",
    "        self.assertEqual(num_balance(1231232), 'число не сбалансировано')\n",
    "\n",
    "if __name__ == '__main__':\n",
    "    unittest.main(argv=['first-arg-is-ignored'], exit=False)"
   ]
  }
 ],
 "metadata": {
  "colab": {
   "provenance": []
  },
  "kernelspec": {
   "display_name": "Python 3",
   "name": "python3"
  },
  "language_info": {
   "codemirror_mode": {
    "name": "ipython",
    "version": 3
   },
   "file_extension": ".py",
   "mimetype": "text/x-python",
   "name": "python",
   "nbconvert_exporter": "python",
   "pygments_lexer": "ipython3",
   "version": "3.12.7"
  }
 },
 "nbformat": 4,
 "nbformat_minor": 0
}
