{
 "cells": [
  {
   "cell_type": "markdown",
   "metadata": {
    "id": "vC84e9kzyxPy"
   },
   "source": [
    "<h1>Импорт библиотек"
   ]
  },
  {
   "cell_type": "code",
   "execution_count": 5,
   "metadata": {
    "id": "cgKeNegmQG5S"
   },
   "outputs": [],
   "source": [
    "import numpy as np\n",
    "import matplotlib.pyplot as plt"
   ]
  },
  {
   "cell_type": "markdown",
   "metadata": {
    "id": "qFM9uVU2x4Ls"
   },
   "source": [
    "<h1>Задача 1. Дан набор из $p$ матриц размерностью $(n, n)$ и $p$ векторов размерностью $(n, 1)$, найти сумму произведений матриц на векторы. Написать тесты для кода"
   ]
  },
  {
   "cell_type": "code",
   "execution_count": 16,
   "metadata": {
    "id": "IAbUvEiYyWFF"
   },
   "outputs": [
    {
     "name": "stderr",
     "output_type": "stream",
     "text": [
      "......\n",
      "----------------------------------------------------------------------\n",
      "Ran 6 tests in 0.003s\n",
      "\n",
      "OK\n"
     ]
    }
   ],
   "source": [
    "import numpy as np\n",
    "import unittest\n",
    "\n",
    "def sum_prod(X, V):\n",
    "    for i in range(len(X)):\n",
    "        if len(X[i]) != len(V[i]):\n",
    "            return 'Длины не равны'\n",
    "    multiply = 0\n",
    "    sum_multiply = 0\n",
    "    for i in range(len(X)):\n",
    "        multiply = np.dot(X[i], V[i])\n",
    "        sum_multiply += multiply\n",
    "    return sum_multiply\n",
    "\n",
    "class TestClass(unittest.TestCase):\n",
    "    #Тест на обычных случайных матрицах\n",
    "    def test_sum_prod(self):\n",
    "        matrix_1 = np.array([[1, 2, 3], [3, 4, 5], [6, 7, 8]])\n",
    "        matrix_2 = np.array([[2, 7, 8], [9, 4, 2], [1, 5, 8]])\n",
    "        array_matrixes = [matrix_1, matrix_2]\n",
    "\n",
    "        vector_1 = np.array([1, 2, 3])\n",
    "        vector_2 = np.array([4, 5, 6])\n",
    "        array_vectors = [vector_1, vector_2]\n",
    "        expected_result = np.array([105, 94, 121])\n",
    "        result = sum_prod(array_matrixes, array_vectors)\n",
    "        # Специальная функция np.array_equal для сравнения массивов \n",
    "        # (через == нельзя сравнивать матрицы из библеотеки numpy)\n",
    "        self.assertTrue(np.array_equal(result, expected_result))\n",
    "\n",
    "    #Тест на единичных матрицах\n",
    "    def test_sum_ones_matrix_equal(self):\n",
    "        matrix_1 = np.array([[1, 0, 0], [0, 1, 0], [0, 0, 1]])\n",
    "        matrix_2 = np.array([[1, 0, 0], [0, 1, 0], [0, 0, 1]])\n",
    "        array_matrixes = [matrix_1, matrix_2]\n",
    "        \n",
    "        vector_1 = np.array([0, 0 , 0])\n",
    "        vector_2 = np.array([4, 5, 6])\n",
    "        array_vectors = [vector_1, vector_2]\n",
    "\n",
    "        expected_result = np.array([4, 5, 6])\n",
    "        result = sum_prod(array_matrixes, array_vectors)\n",
    "        self.assertTrue(np.array_equal(result, expected_result))\n",
    "\n",
    "    def test_when_len_not_coincide(self):\n",
    "        matrix_1 = np.array([[1, 0, 0], [0, 1, 0], [0, 0, 1]])\n",
    "        matrix_2 = np.array([[1, 0, 0], [0, 1, 0], [0, 0, 1]])\n",
    "        array_matrixes = [matrix_1, matrix_2]\n",
    "        vector_1 = np.array([0, 0])\n",
    "        vector_2 = np.array([4, 5])\n",
    "        array_vectors = [vector_1, vector_2]\n",
    "        expected_result = 'Длины не равны'\n",
    "        result = sum_prod(array_matrixes, array_vectors)\n",
    "        self.assertTrue(np.array_equal(result, expected_result))\n",
    "\n",
    "if __name__ == '__main__':\n",
    "    unittest.main(argv=['first-arg-is-ignored'], exit=False)"
   ]
  },
  {
   "cell_type": "markdown",
   "metadata": {
    "id": "TKwPG4fIy2w4"
   },
   "source": [
    "<h1>Задача 2. Дана матрица M, напишите функцию, которая бинаризует матрицу по некоторому threshold (то есть, все значения большие threshold становятся равными 1, иначе 0). Напишите тесты для кода\n"
   ]
  },
  {
   "cell_type": "code",
   "execution_count": 17,
   "metadata": {
    "id": "KQDNMgsjRNH7"
   },
   "outputs": [
    {
     "name": "stderr",
     "output_type": "stream",
     "text": [
      "......\n",
      "----------------------------------------------------------------------\n",
      "Ran 6 tests in 0.003s\n",
      "\n",
      "OK\n"
     ]
    }
   ],
   "source": [
    "import numpy as np\n",
    "import unittest\n",
    "\n",
    "def binarize(M: np.ndarray, threshold=0.5):\n",
    "    for i in range(len(M[:, 0])):\n",
    "        for j in range(len(M[0, :])):\n",
    "            if M[i, j] > threshold:\n",
    "                M[i, j] = 1\n",
    "            else:\n",
    "                M[i, j] = 0\n",
    "    return M\n",
    "\n",
    "class TestBinarize(unittest.TestCase):\n",
    "    def test_binarize(self):\n",
    "        matrix_1 = np.array([[1, 2, 3], [3, 4, 5], [6, 7, 8], [9, 10, 11]])\n",
    "        funck = binarize(matrix_1)\n",
    "        result = np.array([[1, 1, 1], [1, 1, 1], [1, 1, 1], [1, 1, 1]])\n",
    "        self.assertTrue(np.array_equal(funck, result))\n",
    "        \n",
    "    def test_all_zeros(self):\n",
    "        matrix_1 = np.zeros((5, 5))\n",
    "        funck = binarize(matrix_1)\n",
    "        result = np.zeros((5, 5))\n",
    "        self.assertTrue(np.array_equal(funck, result))\n",
    "    \n",
    "    def test_threshold_6(self):\n",
    "        matrix_1 = np.array([[1, 2, 3], [3, 4, 5], [6, 7, 8], [9, 10, 11]])\n",
    "        funck = binarize(matrix_1, threshold=6)\n",
    "        result = np.array([[0, 0, 0], [0, 0, 0], [0, 1, 1], [1, 1, 1]])\n",
    "        self.assertTrue(np.array_equal(funck, result))\n",
    "\n",
    "if __name__ == '__main__':\n",
    "    unittest.main(argv=['first-arg-is-ignored'], exit=False)"
   ]
  },
  {
   "cell_type": "markdown",
   "metadata": {
    "id": "IY5L-h-7zWhN"
   },
   "source": [
    "<h1>Задача 3. Напишите функцию, которая возвращает уникальные элементы из каждой строки матрицы. Напишите такую же функцию, но для столбцов. Напишите тесты для кода"
   ]
  },
  {
   "cell_type": "code",
   "execution_count": 8,
   "metadata": {
    "id": "-8dEZhR0SBC-"
   },
   "outputs": [
    {
     "name": "stdout",
     "output_type": "stream",
     "text": [
      "Уникальные числа в 0 строке: 2 3\n",
      "Уникальные числа в 1 строке: 4 5\n",
      "Уникальные числа в 2 строке: 8 6 7\n",
      "Уникальные числа в 3 строке: 9 10\n",
      "Уникальные числа в 0 столбце: 9 2 4 6\n",
      "Уникальные числа в 1 столбце: 2 10 4 7\n",
      "Уникальные числа в 2 столбце: 8 10 3 5\n"
     ]
    }
   ],
   "source": [
    "# Задача 3. Напишите функцию, которая возвращает уникальные элементы из каждой строки матрицы. \n",
    "# Напишите такую же функцию, но для столбцов. Напишите тесты для кода\n",
    "\n",
    "import numpy as np\n",
    "import unittest\n",
    "\n",
    "matrix_1 = np.array([[2, 2, 3], [4, 4, 5], [6, 7, 8], [9, 10, 10]])\n",
    "matrix_2 = np.array([[2, 7, 8], [9, 4, 2], [1, 5, 8]])\n",
    "array_matrixes = [matrix_1, matrix_2]\n",
    "\n",
    "def unique_rows(mat):\n",
    "    rows_matrix = []\n",
    "    # Идем по длине матрицы и каждую строку матрицы добавляем в список\n",
    "    for i in range(len(mat)):\n",
    "        rows_matrix.append(list(mat[i, :]))\n",
    "\n",
    "    unique = []\n",
    "    # Добавляем в список unique уникальные числа из строк матрицы\n",
    "    for i in range(len(rows_matrix)):\n",
    "        unique.append(list(set(rows_matrix[i])))\n",
    "\n",
    "    # Теперь выводим уникальные числа в строке\n",
    "    for i in range(len(unique)):\n",
    "        print('Уникальные числа в ' + str(i) +' строке: ' + ' '.join(map(str, unique[i])))\n",
    "\n",
    "def unique_columns(mat):\n",
    "    columns_matrix = []\n",
    "    # Идем по длине матрицы и каждый столбец матрицы добавляем в список\n",
    "    for i in range(len(mat[0, :])):\n",
    "        columns_matrix.append(list(mat[:, i]))\n",
    "\n",
    "    unique = []\n",
    "    # Добавляем в список unique уникальные числа из столбцов матрицы\n",
    "    for i in range(len(columns_matrix)):\n",
    "        unique.append(list(set(columns_matrix[i])))\n",
    "\n",
    "    # Теперь выводим уникальные числа в столбце\n",
    "    for i in range(len(unique)):\n",
    "        print('Уникальные числа в ' + str(i) +' столбце: ' + ' '.join(map(str, unique[i])))\n",
    "    \n",
    "\n",
    "unique_rows(matrix_1)\n",
    "unique_columns(matrix_1)"
   ]
  },
  {
   "cell_type": "markdown",
   "metadata": {
    "id": "roYAlo4Jz-lH"
   },
   "source": [
    "<h1>Задача 4. Напишите функцию, которая заполняет матрицу с размерами $(m, n)$ случайными числами, распределенными по нормальному закону. Затем считает мат. ожидание и дисперсию для каждого из столбцов и строк, а также строит для каждой строки и столбца гистограмму значений (использовать функцию hist из модуля matplotlib.plot)"
   ]
  },
  {
   "cell_type": "code",
   "execution_count": 9,
   "metadata": {
    "id": "nZK_71hMSQzv"
   },
   "outputs": [
    {
     "data": {
      "image/png": "[encoded data removed]",
      "text/plain": [
       "<Figure size 1000x1000 with 7 Axes>"
      ]
     },
     "metadata": {},
     "output_type": "display_data"
    }
   ],
   "source": [
    "import matplotlib.pyplot as plt\n",
    "import numpy as np\n",
    "\n",
    "#Функция для создания матрицы и заполнения случайными числами по нормальному закону, где \n",
    "#mu - среднее значение, sigma - стандартное отклонение\n",
    "def create_matrix_with_normalvariate(m, n, mu=0, sigma=1):\n",
    "    matrix = np.random.normal(mu, sigma, (m, n))\n",
    "    return matrix\n",
    "\n",
    "def count_mat_waiting(matrix):\n",
    "    #подсчет мат. ожидания для строк матрицы и внесение их в список\n",
    "    mat_for_string = [float(np.mean(matrix[:, i])) for i in range(len(matrix[0, :]))]\n",
    "    #подсчет мат. ожидания для столбцов матрицы и внесение их в список\n",
    "    mat_for_columns = [float(np.mean(matrix[i, :])) for i in range(len(matrix[:, 0]))]\n",
    "    return mat_for_string, mat_for_columns\n",
    "\n",
    "def count_mat_dispersed(matrix):\n",
    "    #подсчет дисперсии для строк матрицы и внесение их в список\n",
    "    mat_for_string = [float(np.var(matrix[:, i])) for i in range(len(matrix[0, :]))]\n",
    "    #подсчет дисперсии для столбцов матрицы и внесение их в список\n",
    "    mat_for_columns = [float(np.var(matrix[i, :])) for i in range(len(matrix[:, 0]))]\n",
    "    return mat_for_string, mat_for_columns\n",
    "\n",
    "def plot_histograms(matrix):\n",
    "    rows, cols = matrix.shape\n",
    "    \n",
    "    # Построение гистограмм для строк\n",
    "    plt.figure(figsize=(10, 10))\n",
    "    for i in range(rows):\n",
    "        plt.subplot(rows, 2, 2*i+1) \n",
    "        plt.hist(matrix[i, :], bins=10, color='skyblue', edgecolor='black')\n",
    "        plt.title(f'Строка {i+1}')\n",
    "        plt.ylim(0, 4)\n",
    "    # Построение гистограмм для столбцов\n",
    "    for j in range(cols):\n",
    "        plt.subplot(rows, 2, 2*(j)+2)\n",
    "        plt.hist(matrix[:, j], bins=10, color='lightgreen', edgecolor='black')\n",
    "        plt.title(f'Столбец {j+1}')\n",
    "        plt.ylim(0, 4)\n",
    "    plt.tight_layout()\n",
    "    plt.show()\n",
    "\n",
    "matrix = create_matrix_with_normalvariate(4, 3)\n",
    "\n",
    "plot_histograms(matrix)"
   ]
  },
  {
   "cell_type": "markdown",
   "metadata": {
    "id": "BDyATNdM0dJ2"
   },
   "source": [
    "<h1>Задача 5. Напишите функцию, которая заполняет матрицу $(m, n)$ в шахматном порядке заданными числами $a$ и $b$. Напишите тесты для кода"
   ]
  },
  {
   "cell_type": "code",
   "execution_count": 15,
   "metadata": {
    "id": "RWNJYWQGecS6"
   },
   "outputs": [
    {
     "name": "stderr",
     "output_type": "stream",
     "text": [
      ".....\n",
      "----------------------------------------------------------------------\n",
      "Ran 5 tests in 0.003s\n",
      "\n",
      "OK\n"
     ]
    }
   ],
   "source": [
    "import numpy as np\n",
    "import unittest\n",
    "\n",
    "def chess(m: int, n: int, a=1, b=0):\n",
    "    #Создаем матрицу из единиц размером m на n\n",
    "    matrix_with_ones = np.ones((m, n))\n",
    "    #Идем по длине столбца\n",
    "    for i in range(len(matrix_with_ones[:, 0])):\n",
    "        #Идем по длине строки\n",
    "        for j in range(len(matrix_with_ones[0, :])):\n",
    "            #Проверка на четность ширины матрицы\n",
    "            if len(matrix_with_ones[0,:]) % 2 == 0:\n",
    "                #Проверка условия по индексам матрицы\n",
    "                if i % 2 == 0 and j % 2 == 0: \n",
    "                    matrix_with_ones[i, j] = a\n",
    "                elif i % 2 == 0 and j % 2 != 0:\n",
    "                    matrix_with_ones[i, j] = b\n",
    "                elif i % 2 != 0 and j % 2 == 0:\n",
    "                    matrix_with_ones[i, j] = b\n",
    "                else:\n",
    "                    matrix_with_ones[i, j] = a\n",
    "            else:\n",
    "                if i % 2 == 0 and j % 2 == 0:\n",
    "                    matrix_with_ones[i, j] = b\n",
    "                elif i % 2 == 0 and j % 2!= 0:\n",
    "                    matrix_with_ones[i, j] = a\n",
    "                elif i % 2!= 0 and j % 2 == 0:\n",
    "                    matrix_with_ones[i, j] = a\n",
    "                else:\n",
    "                    matrix_with_ones[i, j] = b\n",
    "\n",
    "    return matrix_with_ones\n",
    "\n",
    "class TestClass(unittest.TestCase):\n",
    "    #Тест для квадратной матрицы\n",
    "    def test_chess_width_chet(self):\n",
    "        self.assertTrue(np.array_equal(chess(3, 3), np.array([[0, 1, 0], [1, 0, 1], [0, 1, 0]])))\n",
    "        self.assertTrue(np.array_equal(chess(3, 3, 0, 2), np.array([[2, 0, 2], [0, 2, 0], [2, 0, 2]])))\n",
    "        self.assertTrue(np.array_equal(chess(3, 3, 2, 0), np.array([[0, 2, 0], [2, 0, 2], [0, 2, 0]])))\n",
    "        self.assertTrue(np.array_equal(chess(3, 3, 0, 0), np.array([[0, 0, 0], [0, 0, 0], [0, 0, 0]])))\n",
    "    \n",
    "    #Тест для квадратной матрицы с четными и нечетными размерами\n",
    "    def test_chess_width_nechet(self):\n",
    "        self.assertTrue(np.array_equal(chess(3, 4), np.array([[1, 0, 1, 0], [0, 1, 0, 1], [1, 0, 1, 0]])))\n",
    "        self.assertTrue(np.array_equal(chess(4, 3, 0, 2), np.array([[2, 0, 2], [0, 2, 0], [2, 0, 2], [0, 2, 0]])))\n",
    "        self.assertTrue(np.array_equal(chess(3, 4, 2, 0), np.array([[2, 0, 2, 0], [0, 2, 0, 2], [2, 0, 2, 0]])))\n",
    "        \n",
    "\n",
    "if __name__ == '__main__':\n",
    "    unittest.main(argv=['first-arg-is-ignored'], exit=False)"
   ]
  },
  {
   "cell_type": "markdown",
   "metadata": {
    "id": "-ymXLtTN0vB6"
   },
   "source": [
    "<h1>Задача 6. Напишите функцию, которая отрисовывает прямоугольник с заданными размерами (a, b) на изображении размера (m, n), цвет фона задайте в схеме RGB, как и цвет прямоугольника. Цвета также должны быть параметрами функции. Напишите аналогичную функцию но для овала с полуосями a и b. Напишите тесты для кода.\n",
    "Примечание: уравнение эллипса (границы овала) можно записать как:\n",
    "<h1>$\\frac{(x-x_0)^2}{a^2}+\\frac{(y-y_0)^2}{b^2}=1$"
   ]
  },
  {
   "cell_type": "code",
   "execution_count": 18,
   "metadata": {
    "id": "sNfl1t_kfOF4"
   },
   "outputs": [
    {
     "data": {
      "image/png": "[encoded data removed]",
      "text/plain": [
       "<Figure size 640x480 with 1 Axes>"
      ]
     },
     "metadata": {},
     "output_type": "display_data"
    },
    {
     "data": {
      "image/png": "[encoded data removed]",
      "text/plain": [
       "<Figure size 640x480 with 1 Axes>"
      ]
     },
     "metadata": {},
     "output_type": "display_data"
    }
   ],
   "source": [
    "import numpy as np\n",
    "import matplotlib.pyplot as plt\n",
    "\n",
    "def draw_rectangle(a, b, m, n, rectangle_color, background_color):\n",
    "    # Создаем изображение с фоновым цветом\n",
    "    image = np.ones((m, n, 3), dtype=np.uint8)\n",
    "    image[:, :] = background_color  # Задаем фоновый цвет\n",
    "\n",
    "    # Рассчитаем координаты для прямоугольника\n",
    "    x0 = (n - a) // 2  # Начальная точка по x\n",
    "    y0 = (m - b) // 2  # Начальная точка по y\n",
    "\n",
    "    # Рисуем прямоугольник\n",
    "    image[y0:y0 + b, x0:x0 + a] = rectangle_color\n",
    "\n",
    "    # Отображаем изображение\n",
    "    plt.imshow(image)\n",
    "    plt.axis('off')  # Отключаем оси\n",
    "    plt.show()\n",
    "\n",
    "def draw_ellipse(a, b, m, n, ellipse_color, background_color):\n",
    "    # Создаем изображение с фоновым цветом\n",
    "    image = np.ones((m, n, 3), dtype=np.uint8)\n",
    "    image[:, :] = background_color  # Задаем фоновый цвет\n",
    "\n",
    "    # Координаты центра эллипса\n",
    "    x0 = n // 2\n",
    "    y0 = m // 2\n",
    "\n",
    "    # создание сетки координат\n",
    "    y, x = np.ogrid[:m, :n]\n",
    "    \n",
    "    # Уравнение эллипса\n",
    "    mask = ((x - x0)**2 / a**2 + (y - y0)**2 / b**2) <= 1\n",
    "\n",
    "    # Применяем цвет эллипса\n",
    "    image[mask] = ellipse_color\n",
    "\n",
    "    # Отображаем изображение\n",
    "    plt.imshow(image)\n",
    "    plt.axis('off')  # Отключаем оси\n",
    "    plt.show()\n",
    "\n",
    "if __name__ == \"__main__\":\n",
    "    draw_rectangle(100, 50, 300, 400, rectangle_color=(255, 0, 0), background_color=(255, 255, 255))\n",
    "    draw_ellipse(100, 50, 300, 400, ellipse_color=(0, 0, 255), background_color=(255, 255, 255))\n"
   ]
  },
  {
   "cell_type": "markdown",
   "metadata": {
    "id": "S82c38oz244H"
   },
   "source": [
    "<h1>Задача 7. Дан некий временной ряд. Для данного ряда нужно найти его: математическое ожидание, дисперсию, СКО, найти все локальные максимумы и минимумы (локальный максимум - это точка, которая больше своих соседних точек, а локальный минимум - это точка, которая меньше своих соседей), а также вычислить для данного ряда другой ряд, получаемый методом скользящего среднего с размером окна $p$.\n",
    "<h1>Примечание: метод скользящего среднего подразумевает нахождение среднего из подмножетсва ряда размером $p$"
   ]
  },
  {
   "cell_type": "code",
   "execution_count": 19,
   "metadata": {
    "id": "Zb9mIVge5MMt"
   },
   "outputs": [
    {
     "name": "stdout",
     "output_type": "stream",
     "text": [
      "Математическое ожидание: 3.25\n",
      "Дисперсия: 6.354166666666667\n",
      "СКО: 2.520747243709029\n",
      "Локальные максимумы (индексы): [2, 5, 8]\n",
      "Локальные минимумы (индексы): [3, 6, 10]\n",
      "Скользящее среднее (p=8): [2.625 3.125 3.125 2.5   3.375]\n"
     ]
    }
   ],
   "source": [
    "import numpy as np\n",
    "\n",
    "def calc_statistics(time_series):\n",
    "    # Вычисление математического ожидания, дисперсии и СКО\n",
    "    # с помощью библиотек numpy\n",
    "    mean = np.mean(time_series) #мат ожидание\n",
    "    variance = np.var(time_series) #дисперсия\n",
    "    std_dev = np.std(time_series) #СКО\n",
    "    \n",
    "    return mean, variance, std_dev\n",
    "\n",
    "def find_local_extrema(time_series):\n",
    "    local_max = []\n",
    "    local_min = []\n",
    "    \n",
    "    for i in range(1, len(time_series) - 1):\n",
    "        # Проверка на локальные максимумы и минимумы\n",
    "        if time_series[i] > time_series[i - 1] and time_series[i] > time_series[i + 1]:\n",
    "            local_max.append(i)\n",
    "        if time_series[i] < time_series[i - 1] and time_series[i] < time_series[i + 1]:\n",
    "            local_min.append(i)\n",
    "    \n",
    "    return local_max, local_min\n",
    "\n",
    "# Вычисление скользящего среднего с помощью функции с библиотеки numpy\n",
    "def moving_average(time_series, p):\n",
    "    smoothed_series = np.convolve(time_series, np.ones(p)/p, mode='valid')\n",
    "    return smoothed_series\n",
    "\n",
    "# Тестовые данные\n",
    "time_series = [1, 3, 7, 1, 2, 6, 0, 1, 5, 3, 2, 8]\n",
    "\n",
    "# Вычисление математического ожидания, дисперсии и СКО\n",
    "mean, variance, std_dev = calc_statistics(time_series)\n",
    "print(f\"Математическое ожидание: {mean}\")\n",
    "print(f\"Дисперсия: {variance}\")\n",
    "print(f\"СКО: {std_dev}\")\n",
    "\n",
    "# Нахождение локальных максимумов и минимумов\n",
    "local_max, local_min = find_local_extrema(time_series)\n",
    "print(f\"Локальные максимумы (индексы): {local_max}\")\n",
    "print(f\"Локальные минимумы (индексы): {local_min}\")\n",
    "\n",
    "p = 8\n",
    "smoothed_series = moving_average(time_series, p)\n",
    "print(f\"Скользящее среднее (p={p}): {smoothed_series}\")"
   ]
  },
  {
   "cell_type": "markdown",
   "metadata": {
    "id": "jPkylmOX5O9n"
   },
   "source": [
    "<h1> Задача 8. Дан некоторый вектор с целочисленными метками классов, напишите функцию, которая выполняет one-hot-encoding для данного вектора\n",
    "<h1> One-hot-encoding - представление, в котором на месте метки некоторого класса стоит 1, в остальных позициях стоит 0. Например для вектора [0, 2, 3, 0] one-hot-encoding выглядит как: [[1, 0, 0, 0], [0, 0, 1, 0], [0, 0, 0, 1], [1, 0, 0, 0]]"
   ]
  },
  {
   "cell_type": "code",
   "execution_count": 20,
   "metadata": {
    "id": "Y-jlnZvw56lD"
   },
   "outputs": [
    {
     "name": "stdout",
     "output_type": "stream",
     "text": [
      "One-hot encoding:\n",
      " [[1 0 0 0]\n",
      " [0 0 1 0]\n",
      " [0 0 0 1]\n",
      " [1 0 0 0]]\n"
     ]
    }
   ],
   "source": [
    "import numpy as np\n",
    "\n",
    "def one_hot_encoding(labels):\n",
    "    # Находим количество уникальных классов (максимальное значение + 1)\n",
    "    num_classes = np.max(labels) + 1\n",
    "    \n",
    "    # Создаем двумерный массив с нулями и заполняем его one-hot представлением\n",
    "    one_hot = np.zeros((len(labels), num_classes), dtype=int)\n",
    "    \n",
    "    # Проставляем 1 в соответствующих позициях\n",
    "    for idx, label in enumerate(labels):\n",
    "        one_hot[idx, label] = 1\n",
    "    \n",
    "    return one_hot\n",
    "\n",
    "labels = [0, 2, 3, 0]\n",
    "one_hot_encoded = one_hot_encoding(labels)\n",
    "print(\"One-hot encoding:\\n\", one_hot_encoded)"
   ]
  }
 ],
 "metadata": {
  "colab": {
   "provenance": []
  },
  "kernelspec": {
   "display_name": "Python 3",
   "name": "python3"
  },
  "language_info": {
   "codemirror_mode": {
    "name": "ipython",
    "version": 3
   },
   "file_extension": ".py",
   "mimetype": "text/x-python",
   "name": "python",
   "nbconvert_exporter": "python",
   "pygments_lexer": "ipython3",
   "version": "3.12.7"
  }
 },
 "nbformat": 4,
 "nbformat_minor": 0
}
